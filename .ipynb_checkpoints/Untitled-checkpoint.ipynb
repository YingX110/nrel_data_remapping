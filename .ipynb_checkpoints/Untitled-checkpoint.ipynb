{
 "cells": [
  {
   "cell_type": "code",
   "execution_count": null,
   "id": "4c2f965f",
   "metadata": {},
   "outputs": [],
   "source": [
    "import pandas as pd\n",
    "import matplotlib.pyplot as plt\n",
    "import numpy as np"
   ]
  },
  {
   "cell_type": "code",
   "execution_count": null,
   "id": "e443ca03",
   "metadata": {},
   "outputs": [],
   "source": [
    "traci = pd.read_csv('TRACI_2.csv')\n",
    "emission = pd.read_csv('NG_flow.csv')"
   ]
  },
  {
   "cell_type": "code",
   "execution_count": null,
   "id": "ad8b6a2e",
   "metadata": {},
   "outputs": [],
   "source": [
    "#for data from NREL\n",
    "df = traci.merge(emission, how='inner', on=['Flow', 'Category', 'Sub-category'])\n",
    "df['Unit'] = 'kg'"
   ]
  },
  {
   "cell_type": "code",
   "execution_count": null,
   "id": "092f5fba",
   "metadata": {},
   "outputs": [],
   "source": [
    "#for data from Ecoinvent\n",
    "emission[['Category', 'to', 'Sub-category']] = emission.Category.str.split(expand=True)\n",
    "emission = emission.drop(['to'], axis=1)\n",
    "emission['Category'] = emission['Category'].str.lower()\n",
    "df = traci.merge(emission, how='inner', on=['Flow', 'Category', 'Sub-category'])"
   ]
  },
  {
   "cell_type": "code",
   "execution_count": null,
   "id": "c7edda9e",
   "metadata": {},
   "outputs": [],
   "source": [
    "#stacked bar plot for all flows\n",
    "df_new = df[['Flow', 'Flow impact (kg CO2eq)']].copy()\n",
    "df1 = df_new.set_index(['Flow'])\n",
    "df2 = df1.T\n",
    "ax1 = df2.plot.bar(stacked=True, rot=0, colormap='tab20')"
   ]
  },
  {
   "cell_type": "code",
   "execution_count": null,
   "id": "a17c3c3a",
   "metadata": {},
   "outputs": [],
   "source": [
    "#link contributions of process to impact factor \n",
    "process = pd.read_csv('process_flow.csv')\n",
    "pcs = traci.merge(process, how='inner', on=['Flow', 'Category', 'Sub-category'])\n",
    "pcs['Flow impact (kg CO2eq)'] = pcs.iloc[:, 5:].sum(axis=1) * df['factor (kg CO2 eq)']\n",
    "pcs_new = pcs[['Flow', 'Flow impact (kg CO2eq)']].copy()"
   ]
  }
 ],
 "metadata": {
  "kernelspec": {
   "display_name": "Python 3",
   "language": "python",
   "name": "python3"
  },
  "language_info": {
   "codemirror_mode": {
    "name": "ipython",
    "version": 3
   },
   "file_extension": ".py",
   "mimetype": "text/x-python",
   "name": "python",
   "nbconvert_exporter": "python",
   "pygments_lexer": "ipython3",
   "version": "3.8.6"
  }
 },
 "nbformat": 4,
 "nbformat_minor": 5
}
