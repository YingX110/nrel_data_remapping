{
 "cells": [
  {
   "cell_type": "code",
   "execution_count": 7,
   "id": "3b68016f",
   "metadata": {},
   "outputs": [
    {
     "name": "stdout",
     "output_type": "stream",
     "text": [
      "Collecting matplotlib\n",
      "  Downloading matplotlib-3.4.2-cp38-cp38-win_amd64.whl (7.1 MB)\n",
      "Requirement already satisfied: python-dateutil>=2.7 in c:\\python\\python386\\lib\\site-packages (from matplotlib) (2.8.1)\n",
      "Collecting kiwisolver>=1.0.1\n",
      "  Using cached kiwisolver-1.3.1-cp38-cp38-win_amd64.whl (51 kB)\n",
      "Collecting pillow>=6.2.0\n",
      "  Downloading Pillow-8.2.0-cp38-cp38-win_amd64.whl (2.2 MB)\n",
      "Requirement already satisfied: pyparsing>=2.2.1 in c:\\python\\python386\\lib\\site-packages (from matplotlib) (2.4.7)\n",
      "Requirement already satisfied: numpy>=1.16 in c:\\python\\python386\\lib\\site-packages (from matplotlib) (1.20.3)\n",
      "Collecting cycler>=0.10\n",
      "  Using cached cycler-0.10.0-py2.py3-none-any.whl (6.5 kB)\n",
      "Requirement already satisfied: six in c:\\python\\python386\\lib\\site-packages (from cycler>=0.10->matplotlib) (1.16.0)\n",
      "Installing collected packages: pillow, kiwisolver, cycler, matplotlib\n",
      "Successfully installed cycler-0.10.0 kiwisolver-1.3.1 matplotlib-3.4.2 pillow-8.2.0\n",
      "Note: you may need to restart the kernel to use updated packages.\n"
     ]
    }
   ],
   "source": [
    "pip install matplotlib"
   ]
  },
  {
   "cell_type": "code",
   "execution_count": null,
   "id": "26f20f3e",
   "metadata": {},
   "outputs": [],
   "source": [
    "pip install pandas"
   ]
  },
  {
   "cell_type": "code",
   "execution_count": null,
   "id": "4caa9477",
   "metadata": {},
   "outputs": [],
   "source": [
    "pip install numpy"
   ]
  },
  {
   "cell_type": "code",
   "execution_count": 1,
   "id": "f72ddebd",
   "metadata": {},
   "outputs": [],
   "source": [
    "import pandas as pd\n",
    "import matplotlib.pyplot as plt\n",
    "import numpy as np"
   ]
  },
  {
   "cell_type": "code",
   "execution_count": 2,
   "id": "9127889b",
   "metadata": {},
   "outputs": [],
   "source": [
    "traci = pd.read_csv('TRACI_2.csv')\n",
    "emission = pd.read_csv('NG_flow.csv')"
   ]
  },
  {
   "cell_type": "code",
   "execution_count": 3,
   "id": "bd676f50",
   "metadata": {},
   "outputs": [],
   "source": [
    "#for data from NREL\n",
    "df = traci.merge(emission, how='inner', on=['Flow', 'Category', 'Sub-category'])\n",
    "df['Unit'] = 'kg'\n",
    "df['Flow impact (kg CO2eq)'] = df['factor (kg CO2 eq)'] * df['Result']\n",
    "#df.to_csv(r'C:\\Users\\bourg\\Desktop\\test.csv', index=True)"
   ]
  },
  {
   "cell_type": "code",
   "execution_count": null,
   "id": "97e0f15c",
   "metadata": {},
   "outputs": [],
   "source": [
    "#for data from Ecoinvent\n",
    "emission[['Category', 'to', 'Sub-category']] = emission.Category.str.split(expand=True)\n",
    "emission = emission.drop(['to'], axis=1)\n",
    "emission['Category'] = emission['Category'].str.lower()\n",
    "df = traci.merge(emission, how='inner', on=['Flow', 'Category', 'Sub-category'])\n",
    "df['Flow impact (kg CO2eq)'] = df['factor (kg CO2 eq)'] * df['Result']"
   ]
  },
  {
   "cell_type": "code",
   "execution_count": 4,
   "id": "481bb060",
   "metadata": {},
   "outputs": [
    {
     "data": {
      "image/png": "[encoded data removed]",
      "text/plain": [
       "<Figure size 432x288 with 1 Axes>"
      ]
     },
     "metadata": {
      "needs_background": "light"
     },
     "output_type": "display_data"
    }
   ],
   "source": [
    "#stacked bar plot for all flows\n",
    "df_new = df[['Flow', 'Flow impact (kg CO2eq)']].copy()\n",
    "df1 = df_new.set_index(['Flow'])\n",
    "df2 = df1.T\n",
    "ax1 = df2.plot.bar(stacked=True, rot=0, colormap='tab20')"
   ]
  },
  {
   "cell_type": "code",
   "execution_count": null,
   "id": "2927ab25",
   "metadata": {},
   "outputs": [],
   "source": [
    "#link contributions of process to impact factor \n",
    "process = pd.read_csv('process_flow.csv')\n",
    "pcs = traci.merge(process, how='inner', on=['Flow', 'Category', 'Sub-category'])\n",
    "pcs['Flow impact (kg CO2eq)'] = pcs.iloc[:, 5:].sum(axis=1) * df['factor (kg CO2 eq)']\n",
    "pcs_new = pcs[['Flow', 'Flow impact (kg CO2eq)']].copy()"
   ]
  }
 ],
 "metadata": {
  "kernelspec": {
   "display_name": "Python 3",
   "language": "python",
   "name": "python3"
  },
  "language_info": {
   "codemirror_mode": {
    "name": "ipython",
    "version": 3
   },
   "file_extension": ".py",
   "mimetype": "text/x-python",
   "name": "python",
   "nbconvert_exporter": "python",
   "pygments_lexer": "ipython3",
   "version": "3.8.6"
  }
 },
 "nbformat": 4,
 "nbformat_minor": 5
}
